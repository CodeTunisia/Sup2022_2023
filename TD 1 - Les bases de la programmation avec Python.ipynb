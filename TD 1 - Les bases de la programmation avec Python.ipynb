{
 "cells": [
  {
   "cell_type": "markdown",
   "metadata": {},
   "source": [
    "# Exercice 1 : À la découverte des Variables (à faire dans la console)"
   ]
  },
  {
   "cell_type": "code",
   "execution_count": 1,
   "metadata": {},
   "outputs": [],
   "source": [
    "# Q1.\n",
    "x = 5"
   ]
  },
  {
   "cell_type": "markdown",
   "metadata": {},
   "source": [
    "Q2. Non on ne peut pas écrire l’égalité d’affectation dans le sens qu’on veut."
   ]
  },
  {
   "cell_type": "code",
   "execution_count": 2,
   "metadata": {},
   "outputs": [
    {
     "ename": "SyntaxError",
     "evalue": "cannot assign to literal (Temp/ipykernel_14944/1182432656.py, line 1)",
     "output_type": "error",
     "traceback": [
      "\u001b[1;36m  File \u001b[1;32m\"C:\\Users\\Ahmed\\AppData\\Local\\Temp/ipykernel_14944/1182432656.py\"\u001b[1;36m, line \u001b[1;32m1\u001b[0m\n\u001b[1;33m    5 = x\u001b[0m\n\u001b[1;37m    ^\u001b[0m\n\u001b[1;31mSyntaxError\u001b[0m\u001b[1;31m:\u001b[0m cannot assign to literal\n"
     ]
    }
   ],
   "source": [
    "5 = x"
   ]
  },
  {
   "cell_type": "code",
   "execution_count": 3,
   "metadata": {},
   "outputs": [
    {
     "name": "stdout",
     "output_type": "stream",
     "text": [
      "35\n"
     ]
    }
   ],
   "source": [
    "# Q3. \n",
    "y = 7 * x; print(y)"
   ]
  },
  {
   "cell_type": "code",
   "execution_count": 4,
   "metadata": {},
   "outputs": [
    {
     "name": "stdout",
     "output_type": "stream",
     "text": [
      "35\n"
     ]
    }
   ],
   "source": [
    "x = 2; print(y)"
   ]
  },
  {
   "cell_type": "code",
   "execution_count": 5,
   "metadata": {},
   "outputs": [
    {
     "name": "stdout",
     "output_type": "stream",
     "text": [
      "Help on built-in function id in module builtins:\n",
      "\n",
      "id(obj, /)\n",
      "    Return the identity of an object.\n",
      "    \n",
      "    This is guaranteed to be unique among simultaneously existing objects.\n",
      "    (CPython uses the object's memory address.)\n",
      "\n"
     ]
    }
   ],
   "source": [
    "# Q4.\n",
    "help(id)"
   ]
  },
  {
   "cell_type": "code",
   "execution_count": 6,
   "metadata": {},
   "outputs": [
    {
     "name": "stdout",
     "output_type": "stream",
     "text": [
      "Help on class type in module builtins:\n",
      "\n",
      "class type(object)\n",
      " |  type(object_or_name, bases, dict)\n",
      " |  type(object) -> the object's type\n",
      " |  type(name, bases, dict) -> a new type\n",
      " |  \n",
      " |  Methods defined here:\n",
      " |  \n",
      " |  __call__(self, /, *args, **kwargs)\n",
      " |      Call self as a function.\n",
      " |  \n",
      " |  __delattr__(self, name, /)\n",
      " |      Implement delattr(self, name).\n",
      " |  \n",
      " |  __dir__(self, /)\n",
      " |      Specialized __dir__ implementation for types.\n",
      " |  \n",
      " |  __getattribute__(self, name, /)\n",
      " |      Return getattr(self, name).\n",
      " |  \n",
      " |  __init__(self, /, *args, **kwargs)\n",
      " |      Initialize self.  See help(type(self)) for accurate signature.\n",
      " |  \n",
      " |  __instancecheck__(self, instance, /)\n",
      " |      Check if an object is an instance.\n",
      " |  \n",
      " |  __repr__(self, /)\n",
      " |      Return repr(self).\n",
      " |  \n",
      " |  __setattr__(self, name, value, /)\n",
      " |      Implement setattr(self, name, value).\n",
      " |  \n",
      " |  __sizeof__(self, /)\n",
      " |      Return memory consumption of the type object.\n",
      " |  \n",
      " |  __subclasscheck__(self, subclass, /)\n",
      " |      Check if a class is a subclass.\n",
      " |  \n",
      " |  __subclasses__(self, /)\n",
      " |      Return a list of immediate subclasses.\n",
      " |  \n",
      " |  mro(self, /)\n",
      " |      Return a type's method resolution order.\n",
      " |  \n",
      " |  ----------------------------------------------------------------------\n",
      " |  Class methods defined here:\n",
      " |  \n",
      " |  __prepare__(...)\n",
      " |      __prepare__() -> dict\n",
      " |      used to create the namespace for the class statement\n",
      " |  \n",
      " |  ----------------------------------------------------------------------\n",
      " |  Static methods defined here:\n",
      " |  \n",
      " |  __new__(*args, **kwargs)\n",
      " |      Create and return a new object.  See help(type) for accurate signature.\n",
      " |  \n",
      " |  ----------------------------------------------------------------------\n",
      " |  Data descriptors defined here:\n",
      " |  \n",
      " |  __abstractmethods__\n",
      " |  \n",
      " |  __dict__\n",
      " |  \n",
      " |  __text_signature__\n",
      " |  \n",
      " |  ----------------------------------------------------------------------\n",
      " |  Data and other attributes defined here:\n",
      " |  \n",
      " |  __base__ = <class 'object'>\n",
      " |      The base class of the class hierarchy.\n",
      " |      \n",
      " |      When called, it accepts no arguments and returns a new featureless\n",
      " |      instance that has no instance attributes and cannot be given any.\n",
      " |  \n",
      " |  \n",
      " |  __bases__ = (<class 'object'>,)\n",
      " |  \n",
      " |  __basicsize__ = 880\n",
      " |  \n",
      " |  __dictoffset__ = 264\n",
      " |  \n",
      " |  __flags__ = 2148293632\n",
      " |  \n",
      " |  __itemsize__ = 40\n",
      " |  \n",
      " |  __mro__ = (<class 'type'>, <class 'object'>)\n",
      " |  \n",
      " |  __weakrefoffset__ = 368\n",
      "\n"
     ]
    }
   ],
   "source": [
    "help(type)"
   ]
  },
  {
   "cell_type": "code",
   "execution_count": 7,
   "metadata": {},
   "outputs": [
    {
     "data": {
      "text/plain": [
       "int"
      ]
     },
     "execution_count": 7,
     "metadata": {},
     "output_type": "execute_result"
    }
   ],
   "source": [
    "type(x)"
   ]
  },
  {
   "cell_type": "code",
   "execution_count": 8,
   "metadata": {},
   "outputs": [
    {
     "data": {
      "text/plain": [
       "1830426863952"
      ]
     },
     "execution_count": 8,
     "metadata": {},
     "output_type": "execute_result"
    }
   ],
   "source": [
    "id(x)"
   ]
  },
  {
   "cell_type": "code",
   "execution_count": 9,
   "metadata": {},
   "outputs": [
    {
     "data": {
      "text/plain": [
       "1830426863984"
      ]
     },
     "execution_count": 9,
     "metadata": {},
     "output_type": "execute_result"
    }
   ],
   "source": [
    "#Q5.\n",
    "x =x + 1; id(x)"
   ]
  },
  {
   "cell_type": "code",
   "execution_count": 10,
   "metadata": {},
   "outputs": [
    {
     "name": "stdout",
     "output_type": "stream",
     "text": [
      "12\n",
      "11\n",
      "5\n",
      "1\n",
      "0.5\n",
      "11.0\n"
     ]
    }
   ],
   "source": [
    "# Q6.\n",
    "x = 11\n",
    "x +=1; print(x)\n",
    "x -=1; print(x)\n",
    "x //=2; print(x)\n",
    "x %=2; print(x)\n",
    "x /=2; print(x)\n",
    "x *=22; print(x)"
   ]
  },
  {
   "cell_type": "code",
   "execution_count": 11,
   "metadata": {},
   "outputs": [
    {
     "name": "stdout",
     "output_type": "stream",
     "text": [
      "9 7\n"
     ]
    }
   ],
   "source": [
    "#Q7.\n",
    "x, y = 7, 9\n",
    "x, y = y, x\n",
    "print(x, y)"
   ]
  },
  {
   "cell_type": "markdown",
   "metadata": {},
   "source": [
    "# Exercice 2 : Premiers affichages (à faire dans la console)"
   ]
  },
  {
   "cell_type": "code",
   "execution_count": 12,
   "metadata": {},
   "outputs": [],
   "source": [
    "# Q1\n",
    "Bonjour = 0"
   ]
  },
  {
   "cell_type": "code",
   "execution_count": 13,
   "metadata": {},
   "outputs": [
    {
     "name": "stdout",
     "output_type": "stream",
     "text": [
      "0\n"
     ]
    }
   ],
   "source": [
    "# Q2\n",
    "print(Bonjour)"
   ]
  },
  {
   "cell_type": "code",
   "execution_count": 14,
   "metadata": {},
   "outputs": [
    {
     "name": "stdout",
     "output_type": "stream",
     "text": [
      "Bonjour\n"
     ]
    }
   ],
   "source": [
    "print(\"Bonjour\") # ou print('Bonjour')"
   ]
  },
  {
   "cell_type": "code",
   "execution_count": 15,
   "metadata": {},
   "outputs": [
    {
     "data": {
      "text/plain": [
       "int"
      ]
     },
     "execution_count": 15,
     "metadata": {},
     "output_type": "execute_result"
    }
   ],
   "source": [
    "# Q3.\n",
    "type(Bonjour)"
   ]
  },
  {
   "cell_type": "code",
   "execution_count": 16,
   "metadata": {},
   "outputs": [
    {
     "data": {
      "text/plain": [
       "str"
      ]
     },
     "execution_count": 16,
     "metadata": {},
     "output_type": "execute_result"
    }
   ],
   "source": [
    "type('Bonjour')"
   ]
  },
  {
   "cell_type": "code",
   "execution_count": 17,
   "metadata": {},
   "outputs": [
    {
     "name": "stdout",
     "output_type": "stream",
     "text": [
      "Aujourd'hui et Il dit: \"Bonjour\"\n"
     ]
    }
   ],
   "source": [
    "#Q4\n",
    "print('Aujourd\\'hui et Il dit: \"Bonjour\"') # \\' est un carctère (') hors syntaxe python."
   ]
  },
  {
   "cell_type": "code",
   "execution_count": 18,
   "metadata": {},
   "outputs": [
    {
     "name": "stdout",
     "output_type": "stream",
     "text": [
      "\"Aujourd’hui\"\n"
     ]
    }
   ],
   "source": [
    "print(\"\\\"Aujourd’hui\\\"\") # \\\" est un carctère (\") hors syntaxe python."
   ]
  },
  {
   "cell_type": "code",
   "execution_count": 19,
   "metadata": {},
   "outputs": [
    {
     "name": "stdout",
     "output_type": "stream",
     "text": [
      "Hello World!\n"
     ]
    }
   ],
   "source": [
    "# Q5\n",
    "print(\"Hello World!\")"
   ]
  },
  {
   "cell_type": "code",
   "execution_count": 20,
   "metadata": {},
   "outputs": [
    {
     "name": "stdout",
     "output_type": "stream",
     "text": [
      "Hello\n",
      "World!\n"
     ]
    }
   ],
   "source": [
    "print(\"Hello\\nWorld!\") # \\n  est un caractère de retour à la ligne"
   ]
  },
  {
   "cell_type": "code",
   "execution_count": 21,
   "metadata": {},
   "outputs": [
    {
     "name": "stdout",
     "output_type": "stream",
     "text": [
      "1;2;3\n"
     ]
    }
   ],
   "source": [
    "# Q6 \n",
    "x, y, z = 1, 2, 3\n",
    "print(x, y, z, sep = \";\")"
   ]
  },
  {
   "cell_type": "code",
   "execution_count": 22,
   "metadata": {},
   "outputs": [
    {
     "name": "stdout",
     "output_type": "stream",
     "text": [
      "1et2et3."
     ]
    }
   ],
   "source": [
    "print(x, y, z, sep = \"et\", end = '.')"
   ]
  },
  {
   "cell_type": "code",
   "execution_count": 23,
   "metadata": {},
   "outputs": [
    {
     "name": "stdout",
     "output_type": "stream",
     "text": [
      "1\n",
      "2\n",
      "3\n"
     ]
    }
   ],
   "source": [
    "print(x, y, z, sep = \"\\n\")"
   ]
  },
  {
   "cell_type": "code",
   "execution_count": 24,
   "metadata": {},
   "outputs": [
    {
     "name": "stdout",
     "output_type": "stream",
     "text": [
      "x=1, y=2, z=3\n"
     ]
    }
   ],
   "source": [
    "# Q7.\n",
    "print(\"x={}, y={}, z={}\".format(x, y, z))"
   ]
  },
  {
   "cell_type": "markdown",
   "metadata": {},
   "source": [
    "# Exercice 4 : Quiz multiplications"
   ]
  },
  {
   "cell_type": "code",
   "execution_count": 26,
   "metadata": {},
   "outputs": [
    {
     "name": "stdout",
     "output_type": "stream",
     "text": [
      "combien vaut le produit 9 * 12 ?\n",
      "13\n",
      "Perdu! La bonne réponse était  108\n"
     ]
    }
   ],
   "source": [
    "# Quiz multiplication\n",
    "import random as rd\n",
    "## Q1)\n",
    "a = rd.randint(1, 12)\n",
    "## Q2)\n",
    "b = rd.randint(1, 12)\n",
    "## Q3)\n",
    "print(\"combien vaut le produit {} * {} ?\".format(a, b))\n",
    "## Q4)\n",
    "p = int(input())\n",
    "## Q5)\n",
    "if p == a*b:\n",
    "    print(\"Bravo!\")\n",
    "else:\n",
    "    print(\"Perdu! La bonne réponse était \",a*b)"
   ]
  },
  {
   "cell_type": "markdown",
   "metadata": {},
   "source": [
    "# Exercice 5 : Structures itératives\n",
    "Le programme affiche un triangle d'étoiles."
   ]
  },
  {
   "cell_type": "code",
   "execution_count": 27,
   "metadata": {},
   "outputs": [
    {
     "name": "stdout",
     "output_type": "stream",
     "text": [
      "Entrez le nombre de ligne : 6\n",
      " ∗ \n",
      " ∗  ∗ \n",
      " ∗  ∗  ∗ \n",
      " ∗  ∗  ∗  ∗ \n",
      " ∗  ∗  ∗  ∗  ∗ \n",
      " ∗  ∗  ∗  ∗  ∗  ∗ \n"
     ]
    }
   ],
   "source": [
    "n = int(input(\"Entrez le nombre de ligne : \"))\n",
    "for i in range(n) :\n",
    "    for j in range(i+1) :\n",
    "        print(\" ∗ \", end = \"\")\n",
    "    print(\"\\r\")"
   ]
  },
  {
   "cell_type": "markdown",
   "metadata": {},
   "source": [
    "# Exercice 6 : Aire du rectangle par rapport au cercle"
   ]
  },
  {
   "cell_type": "code",
   "execution_count": 28,
   "metadata": {},
   "outputs": [
    {
     "name": "stdout",
     "output_type": "stream",
     "text": [
      "La plus grande valeur possible de b :  271\n"
     ]
    }
   ],
   "source": [
    "from math import pi\n",
    "r = 10.6\n",
    "a = 1.3    # un côté du rectangle\n",
    "aire_cercle = pi*r**2\n",
    "b = 0      # valeur de départ choisie pour l'autre côté du rectangle\n",
    "while a*b < aire_cercle:\n",
    "    b += 1\n",
    "b -= 1     # doit annuler la dernière mise à jour pour obtenir la bonne valeur\n",
    "print(\"La plus grande valeur possible de b : \", b)"
   ]
  },
  {
   "cell_type": "markdown",
   "metadata": {},
   "source": [
    "# Exercice 7 : Les fonctions"
   ]
  },
  {
   "cell_type": "code",
   "execution_count": 29,
   "metadata": {},
   "outputs": [],
   "source": [
    "import math\n",
    "def ecart(a, b, epsilon = 0.1) :\n",
    "    d = math.fabs(a - b)\n",
    "    if (d < epsilon) :\n",
    "        d = 0\n",
    "    return d"
   ]
  },
  {
   "cell_type": "code",
   "execution_count": 30,
   "metadata": {},
   "outputs": [
    {
     "name": "stdout",
     "output_type": "stream",
     "text": [
      "0\n"
     ]
    }
   ],
   "source": [
    "#Q1\n",
    "print(ecart(a=12.2, b=11.9, epsilon = 1))"
   ]
  },
  {
   "cell_type": "code",
   "execution_count": 31,
   "metadata": {},
   "outputs": [
    {
     "name": "stdout",
     "output_type": "stream",
     "text": [
      "0.29999999999999893\n"
     ]
    }
   ],
   "source": [
    "print(ecart(a=12.2, b=11.9))"
   ]
  },
  {
   "cell_type": "code",
   "execution_count": 32,
   "metadata": {},
   "outputs": [
    {
     "name": "stdout",
     "output_type": "stream",
     "text": [
      "0.29999999999999893\n"
     ]
    }
   ],
   "source": [
    "e= ecart(a=12.2, b=11.9) ;print(e)"
   ]
  },
  {
   "cell_type": "code",
   "execution_count": 33,
   "metadata": {},
   "outputs": [],
   "source": [
    "# Q2.\n",
    "import math\n",
    "def ecart(a, b, epsilon = 0.1) :\n",
    "    d = math.fabs(a - b)\n",
    "    if (d < epsilon) :\n",
    "        d = 0\n",
    "    print(d)"
   ]
  },
  {
   "cell_type": "code",
   "execution_count": 34,
   "metadata": {},
   "outputs": [
    {
     "name": "stdout",
     "output_type": "stream",
     "text": [
      "0.29999999999999893\n",
      "None\n"
     ]
    }
   ],
   "source": [
    "e1=ecart(a=12.2, b=11.9) ;print(e1)"
   ]
  },
  {
   "cell_type": "markdown",
   "metadata": {},
   "source": [
    "`0.29999999999999893` provient de l'affichage avec `print` dans `ecart()`.\n",
    "\n",
    "`print(e1)` affiche la valeur `None` car la fonction `ecart()` ne retourne rien.\n"
   ]
  },
  {
   "cell_type": "code",
   "execution_count": 35,
   "metadata": {},
   "outputs": [
    {
     "name": "stdout",
     "output_type": "stream",
     "text": [
      "0.29999999999999893\n"
     ]
    }
   ],
   "source": [
    "ecart(a=12.2, b=11.9)"
   ]
  },
  {
   "cell_type": "markdown",
   "metadata": {},
   "source": [
    "# Exercice 8 : date plus un jour"
   ]
  },
  {
   "cell_type": "markdown",
   "metadata": {},
   "source": [
    "## Q1. Déterminer si une année est bissextile ou non?"
   ]
  },
  {
   "cell_type": "code",
   "execution_count": 36,
   "metadata": {},
   "outputs": [],
   "source": [
    "\n",
    "def bissextile(a):\n",
    "    return (a % 4 == 0 and a %100 != 0) or a % 400 ==0"
   ]
  },
  {
   "cell_type": "code",
   "execution_count": 37,
   "metadata": {},
   "outputs": [
    {
     "data": {
      "text/plain": [
       "False"
      ]
     },
     "execution_count": 37,
     "metadata": {},
     "output_type": "execute_result"
    }
   ],
   "source": [
    "bissextile(2021)"
   ]
  },
  {
   "cell_type": "code",
   "execution_count": 38,
   "metadata": {},
   "outputs": [
    {
     "data": {
      "text/plain": [
       "True"
      ]
     },
     "execution_count": 38,
     "metadata": {},
     "output_type": "execute_result"
    }
   ],
   "source": [
    "bissextile(2020)"
   ]
  },
  {
   "cell_type": "markdown",
   "metadata": {},
   "source": [
    "## Q2. Donner le triplet (jour, mois et année) et affiche la date suivante.\n",
    "* Les mois numéros 1, 3, 5, 7, 8, 10 et 12 ont 31 jours.\n",
    "* Ceux de numéros 4, 6, 9 et 11 en ont 30.\n",
    "* Le mois numéro 2 a 29 jours si l’année est bissextile, 28 dans le cas contraire.\n",
    "\n",
    "### Une méthode"
   ]
  },
  {
   "cell_type": "code",
   "execution_count": 39,
   "metadata": {},
   "outputs": [],
   "source": [
    "def plus_un_jour(j, m, a):\n",
    "    if m in [1, 3, 5, 7, 8, 10] :\n",
    "        if j == 31:\n",
    "            j, m, a = 1, m+1,a\n",
    "        else:\n",
    "            j, m, a = j+1, m, a\n",
    "    elif m == 12 :\n",
    "        if j == 31:\n",
    "            j, m, a = 1, 1, a+1\n",
    "        else:\n",
    "            j, m, a = j+1, m, a\n",
    "    elif m in [4, 6, 9, 11]:\n",
    "        if j == 30:\n",
    "            j, m, a = 1, m+1,a\n",
    "        else:\n",
    "            j, m, a = j+1, m, a\n",
    "    \n",
    "    elif (j==28 and m==2 and not bissextile(a)) or (j==29 and m==2 and bissextile(a)):\n",
    "        j, m, a = 1, m+1,a\n",
    "    # La date à retouner par la fonction doit être valide!\n",
    "    elif (m == 2 and not bissextile(a)and j>=29)or (m == 2 and bissextile(a)and j>29):\n",
    "        return \"Date invalide!\"\n",
    "    else :\n",
    "        j, m, a = j+1, m, a\n",
    "    # La date à retouner par la fonction doit être valide!\n",
    "    if (1<= j <= 31 and 1 <= m <=12 and a >=1):\n",
    "        return j, m, a\n",
    "    else:\n",
    "        return \"Date invalide!\""
   ]
  },
  {
   "cell_type": "code",
   "execution_count": 40,
   "metadata": {},
   "outputs": [
    {
     "data": {
      "text/plain": [
       "'Date invalide!'"
      ]
     },
     "execution_count": 40,
     "metadata": {},
     "output_type": "execute_result"
    }
   ],
   "source": [
    " plus_un_jour(31, 6, 2015)"
   ]
  },
  {
   "cell_type": "code",
   "execution_count": 41,
   "metadata": {},
   "outputs": [
    {
     "data": {
      "text/plain": [
       "(29, 2, 2020)"
      ]
     },
     "execution_count": 41,
     "metadata": {},
     "output_type": "execute_result"
    }
   ],
   "source": [
    " plus_un_jour(28, 2, 2020)"
   ]
  },
  {
   "cell_type": "code",
   "execution_count": 42,
   "metadata": {},
   "outputs": [
    {
     "data": {
      "text/plain": [
       "(1, 5, 2019)"
      ]
     },
     "execution_count": 42,
     "metadata": {},
     "output_type": "execute_result"
    }
   ],
   "source": [
    "plus_un_jour(30, 4, 2019)"
   ]
  },
  {
   "cell_type": "code",
   "execution_count": 43,
   "metadata": {},
   "outputs": [
    {
     "data": {
      "text/plain": [
       "(31, 3, 2020)"
      ]
     },
     "execution_count": 43,
     "metadata": {},
     "output_type": "execute_result"
    }
   ],
   "source": [
    "plus_un_jour(30, 3, 2020)"
   ]
  },
  {
   "cell_type": "code",
   "execution_count": 44,
   "metadata": {},
   "outputs": [
    {
     "data": {
      "text/plain": [
       "'Date invalide!'"
      ]
     },
     "execution_count": 44,
     "metadata": {},
     "output_type": "execute_result"
    }
   ],
   "source": [
    "plus_un_jour(29, 2, 2021)"
   ]
  },
  {
   "cell_type": "code",
   "execution_count": 45,
   "metadata": {},
   "outputs": [
    {
     "data": {
      "text/plain": [
       "(1, 3, 2020)"
      ]
     },
     "execution_count": 45,
     "metadata": {},
     "output_type": "execute_result"
    }
   ],
   "source": [
    "plus_un_jour(29, 2, 2020)"
   ]
  },
  {
   "cell_type": "markdown",
   "metadata": {},
   "source": [
    "### Une autre méthode\n",
    "Une solution plus simple est possible en définissant une fonction intermédiaire qui renvoie le nombre de jours pour un mois et une année donnés."
   ]
  },
  {
   "cell_type": "code",
   "execution_count": 46,
   "metadata": {},
   "outputs": [],
   "source": [
    "def nbrJours(m, a):\n",
    "    if m == 2:\n",
    "        if bissextile(a):\n",
    "            nbr = 29\n",
    "        else:\n",
    "            nbr = 28\n",
    "    elif m <= 7:\n",
    "        if m % 2 == 1:\n",
    "            nbr = 31\n",
    "        else:\n",
    "            nbr = 30\n",
    "    else:\n",
    "        if m % 2 == 0:\n",
    "            nbr = 31\n",
    "        else:\n",
    "            nbr = 30\n",
    "    return nbr"
   ]
  },
  {
   "cell_type": "code",
   "execution_count": 47,
   "metadata": {},
   "outputs": [
    {
     "data": {
      "text/plain": [
       "28"
      ]
     },
     "execution_count": 47,
     "metadata": {},
     "output_type": "execute_result"
    }
   ],
   "source": [
    "nbrJours(2, 2021)"
   ]
  },
  {
   "cell_type": "code",
   "execution_count": 48,
   "metadata": {},
   "outputs": [],
   "source": [
    "def Plus_Un_Jour(j, m, a):\n",
    "    if j < nbrJours(m, a): # si j avant le dernier jour\n",
    "        j += 1\n",
    "    else: # si j est le dernier jour\n",
    "        j = 1 # le lendemain est le premier jour\n",
    "        if m < 12: # du nouveau mois\n",
    "            m += 1\n",
    "        else: # de la nouvelle année\n",
    "            m = 1\n",
    "            a += 1\n",
    "    return j, m, a"
   ]
  },
  {
   "cell_type": "code",
   "execution_count": 49,
   "metadata": {},
   "outputs": [
    {
     "data": {
      "text/plain": [
       "(1, 1, 2016)"
      ]
     },
     "execution_count": 49,
     "metadata": {},
     "output_type": "execute_result"
    }
   ],
   "source": [
    "Plus_Un_Jour(31, 12, 2015)"
   ]
  },
  {
   "cell_type": "code",
   "execution_count": 50,
   "metadata": {},
   "outputs": [
    {
     "data": {
      "text/plain": [
       "(29, 2, 2020)"
      ]
     },
     "execution_count": 50,
     "metadata": {},
     "output_type": "execute_result"
    }
   ],
   "source": [
    "Plus_Un_Jour(28, 2, 2020)"
   ]
  },
  {
   "cell_type": "code",
   "execution_count": 51,
   "metadata": {},
   "outputs": [
    {
     "data": {
      "text/plain": [
       "(1, 3, 2021)"
      ]
     },
     "execution_count": 51,
     "metadata": {},
     "output_type": "execute_result"
    }
   ],
   "source": [
    "Plus_Un_Jour(28, 2, 2021)"
   ]
  },
  {
   "cell_type": "markdown",
   "metadata": {},
   "source": [
    "# Exercice 9 : Nombres entiers"
   ]
  },
  {
   "cell_type": "code",
   "execution_count": 52,
   "metadata": {},
   "outputs": [],
   "source": [
    "# Q1\n",
    "def inf(n):\n",
    "    i = 0\n",
    "    while i < n:\n",
    "        print(i)\n",
    "    i+=1\n",
    "# Q2\n",
    "def inf_pair(n):\n",
    "    i = 0\n",
    "    while i < n:\n",
    "        if i%2==0:\n",
    "            print(i)\n",
    "        i+=1\n",
    "# Q3          \n",
    "def div(n):\n",
    "    i = 1\n",
    "    while i <=n:\n",
    "        if n%i ==0 :\n",
    "            print(i)\n",
    "        i+=1\n",
    "# Q4\n",
    "def ndiv(n):\n",
    "    ndiv = 0\n",
    "    i = 1\n",
    "    while i <=n:\n",
    "        if n%i ==0 : # si i divise n, on ajoute 1 à ndiv\n",
    "            ndiv+=1\n",
    "        i+=1\n",
    "    return ndiv\n",
    "# Q5\n",
    "def somme_div(n):\n",
    "    s = 0\n",
    "    i = 1\n",
    "    while i <=n:\n",
    "        if n%i ==0 : # si i divise n, on l'joute à s\n",
    "            s+=i\n",
    "        i+=1\n",
    "    return s\n",
    "# Q6 # Q7\n",
    "def MaxMin(n):\n",
    "    i = 0\n",
    "    Max=1\n",
    "    Min = Max\n",
    "    posMin, posMax = 0, 0\n",
    "    while i<=n:\n",
    "        x = int(input(\"Donnez un entier :\"))\n",
    "        if x>Max:\n",
    "            Max = x\n",
    "            posMax = i\n",
    "        elif x<=Min:\n",
    "            Min = x\n",
    "            posMin = i\n",
    "        i+=1\n",
    "    return (Max, posMax), (Min, posMin)\n",
    "# Q8.\n",
    "3def MaxMin2():\n",
    "    i = 0\n",
    "    Max=1\n",
    "    Min = Max\n",
    "    posMin, posMax = 0, 0\n",
    "    while True:\n",
    "        x = int(input(\"Donnez un entier:\"))\n",
    "        if x>Max:\n",
    "            Max = x\n",
    "            posMax = i\n",
    "        elif x<=Min:\n",
    "            Min = x\n",
    "            posMin = i\n",
    "        if x == 0:\n",
    "            break\n",
    "        i+=1\n",
    "    return (Max, posMax), (Min, posMin)"
   ]
  },
  {
   "cell_type": "code",
   "execution_count": 53,
   "metadata": {},
   "outputs": [
    {
     "name": "stdout",
     "output_type": "stream",
     "text": [
      "Donnez un entier :10\n",
      "Donnez un entier :11\n",
      "Donnez un entier :22\n",
      "Donnez un entier :0\n",
      "Donnez un entier :-12\n",
      "Donnez un entier :01\n"
     ]
    },
    {
     "data": {
      "text/plain": [
       "((22, 2), (-12, 4))"
      ]
     },
     "execution_count": 53,
     "metadata": {},
     "output_type": "execute_result"
    }
   ],
   "source": [
    "MaxMin(5)"
   ]
  },
  {
   "cell_type": "code",
   "execution_count": 54,
   "metadata": {},
   "outputs": [
    {
     "name": "stdout",
     "output_type": "stream",
     "text": [
      "Donnez un entier:3\n",
      "Donnez un entier:12\n",
      "Donnez un entier:0\n"
     ]
    },
    {
     "data": {
      "text/plain": [
       "((12, 1), (0, 2))"
      ]
     },
     "execution_count": 54,
     "metadata": {},
     "output_type": "execute_result"
    }
   ],
   "source": [
    "MaxMin2()"
   ]
  },
  {
   "cell_type": "markdown",
   "metadata": {},
   "source": [
    "# Exercice 10 : Calculette"
   ]
  },
  {
   "cell_type": "code",
   "execution_count": 55,
   "metadata": {},
   "outputs": [],
   "source": [
    "#Q1\n",
    "def saisi():\n",
    "    while True:\n",
    "        try:\n",
    "            a = int(input(\"Donnez un entier a : \"))\n",
    "            b = int(input(\"Donnez un entier b : \"))\n",
    "            if a > 0 and b > 0:\n",
    "                break\n",
    "        except:\n",
    "            print(\"Erreur\")\n",
    "    return (a, b)"
   ]
  },
  {
   "cell_type": "code",
   "execution_count": 60,
   "metadata": {},
   "outputs": [
    {
     "name": "stdout",
     "output_type": "stream",
     "text": [
      "Donnez un entier a : 12\n",
      "Donnez un entier b : 0\n",
      "Donnez un entier a : aa\n",
      "Erreur\n",
      "Donnez un entier a : 12\n",
      "Donnez un entier b : 3\n"
     ]
    }
   ],
   "source": [
    "a, b = saisi()"
   ]
  },
  {
   "cell_type": "code",
   "execution_count": 61,
   "metadata": {},
   "outputs": [],
   "source": [
    "#Q2\n",
    "def somme(x, y):\n",
    "    s = x\n",
    "    for i in range(y):\n",
    "        s+=1\n",
    "    return s"
   ]
  },
  {
   "cell_type": "code",
   "execution_count": 62,
   "metadata": {},
   "outputs": [
    {
     "data": {
      "text/plain": [
       "15"
      ]
     },
     "execution_count": 62,
     "metadata": {},
     "output_type": "execute_result"
    }
   ],
   "source": [
    "somme(a, b)"
   ]
  },
  {
   "cell_type": "code",
   "execution_count": 63,
   "metadata": {},
   "outputs": [],
   "source": [
    "#Q3\n",
    "def difference(x, y):\n",
    "    d = x\n",
    "    for i in range(y):\n",
    "        d-=1\n",
    "    return d"
   ]
  },
  {
   "cell_type": "code",
   "execution_count": 64,
   "metadata": {},
   "outputs": [
    {
     "data": {
      "text/plain": [
       "9"
      ]
     },
     "execution_count": 64,
     "metadata": {},
     "output_type": "execute_result"
    }
   ],
   "source": [
    "difference(a, b)"
   ]
  },
  {
   "cell_type": "code",
   "execution_count": 65,
   "metadata": {},
   "outputs": [],
   "source": [
    "#Q4\n",
    "def produit(x, y):\n",
    "    p = 0\n",
    "    for i in range(y):\n",
    "        p = somme(p, x)\n",
    "    return p"
   ]
  },
  {
   "cell_type": "code",
   "execution_count": 66,
   "metadata": {},
   "outputs": [
    {
     "data": {
      "text/plain": [
       "36"
      ]
     },
     "execution_count": 66,
     "metadata": {},
     "output_type": "execute_result"
    }
   ],
   "source": [
    "produit(a, b)"
   ]
  },
  {
   "cell_type": "code",
   "execution_count": 67,
   "metadata": {},
   "outputs": [],
   "source": [
    "#Q5\n",
    "def puissance(x, y):\n",
    "    e = 1\n",
    "    for i in range(y):\n",
    "        e = produit(e, x)\n",
    "    return e"
   ]
  },
  {
   "cell_type": "code",
   "execution_count": 68,
   "metadata": {},
   "outputs": [
    {
     "data": {
      "text/plain": [
       "1728"
      ]
     },
     "execution_count": 68,
     "metadata": {},
     "output_type": "execute_result"
    }
   ],
   "source": [
    "puissance(a, b)"
   ]
  },
  {
   "cell_type": "code",
   "execution_count": 69,
   "metadata": {},
   "outputs": [
    {
     "data": {
      "text/plain": [
       "True"
      ]
     },
     "execution_count": 69,
     "metadata": {},
     "output_type": "execute_result"
    }
   ],
   "source": [
    "puissance(a,b) == a**b"
   ]
  },
  {
   "cell_type": "code",
   "execution_count": 73,
   "metadata": {},
   "outputs": [],
   "source": [
    "#Q6\n",
    "def div_mod(x, y):\n",
    "    q = 0\n",
    "    while produit(q, y) <= x:\n",
    "        q +=1\n",
    "    q-=1\n",
    "    r = difference(x, produit(q, y))\n",
    "    return(q, r)"
   ]
  },
  {
   "cell_type": "code",
   "execution_count": 74,
   "metadata": {},
   "outputs": [
    {
     "data": {
      "text/plain": [
       "(4, 0)"
      ]
     },
     "execution_count": 74,
     "metadata": {},
     "output_type": "execute_result"
    }
   ],
   "source": [
    "div_mod(a, b)"
   ]
  },
  {
   "cell_type": "code",
   "execution_count": 75,
   "metadata": {},
   "outputs": [
    {
     "data": {
      "text/plain": [
       "True"
      ]
     },
     "execution_count": 75,
     "metadata": {},
     "output_type": "execute_result"
    }
   ],
   "source": [
    "div_mod(a, b) == divmod(a, b)"
   ]
  },
  {
   "cell_type": "markdown",
   "metadata": {},
   "source": [
    "# Exercice 11 : Heure valide"
   ]
  },
  {
   "cell_type": "code",
   "execution_count": 77,
   "metadata": {},
   "outputs": [],
   "source": [
    "# Q1.\n",
    "def saisi(a, b):\n",
    "    while True:\n",
    "        try:\n",
    "            n = int(input(\"Donner n dans [a, b]\"))\n",
    "            if a<=n<=b:\n",
    "                break\n",
    "        except:\n",
    "            print(\"Erreur, n doit être un entier dans [a, b]\")\n",
    "    return n"
   ]
  },
  {
   "cell_type": "code",
   "execution_count": 78,
   "metadata": {},
   "outputs": [],
   "source": [
    "#Q2\n",
    "def saisi_heure():\n",
    "    print(\"Heure : \")\n",
    "    hh = saisi(0, 23)\n",
    "    print(\"Minute : \")\n",
    "    mm = saisi(0, 59)\n",
    "    print(\"Seconde : \")\n",
    "    ss = saisi(0, 59)\n",
    "    return (hh, mm, ss)\n",
    "    \n",
    "    "
   ]
  },
  {
   "cell_type": "code",
   "execution_count": 79,
   "metadata": {},
   "outputs": [
    {
     "name": "stdout",
     "output_type": "stream",
     "text": [
      "Heure : \n",
      "Donner n dans [a, b]12\n",
      "Minute : \n",
      "Donner n dans [a, b]30\n",
      "Seconde : \n",
      "Donner n dans [a, b]1\n"
     ]
    },
    {
     "data": {
      "text/plain": [
       "(12, 30, 1)"
      ]
     },
     "execution_count": 79,
     "metadata": {},
     "output_type": "execute_result"
    }
   ],
   "source": [
    "saisi_heure()"
   ]
  },
  {
   "cell_type": "code",
   "execution_count": 80,
   "metadata": {},
   "outputs": [],
   "source": [
    "#Q3.\n",
    "def H2S(h, m, s):\n",
    "    return h*3600 + m*60 + s\n",
    "def S2H(s):\n",
    "    h = s//3600\n",
    "    r = s%3600\n",
    "    m = r//60\n",
    "    s = r%60\n",
    "    return (h, m, s)"
   ]
  },
  {
   "cell_type": "code",
   "execution_count": 81,
   "metadata": {},
   "outputs": [],
   "source": [
    "def duree_voyage(h1, m1, s1, h2, m2, s2):\n",
    "    s = H2S(h2, m2, s2) - H2S(h1, m1, s1)\n",
    "    return S2H(s)\n"
   ]
  },
  {
   "cell_type": "code",
   "execution_count": 86,
   "metadata": {},
   "outputs": [
    {
     "name": "stdout",
     "output_type": "stream",
     "text": [
      "Heure du départ\n",
      "----------\n",
      "Heure : \n",
      "Donner n dans [a, b]12\n",
      "Minute : \n",
      "Donner n dans [a, b]10\n",
      "Seconde : \n",
      "Donner n dans [a, b]1\n",
      "départ à 12:10:01\n",
      "Heure d'arrivée\n",
      "---------- \n",
      "Heure : \n",
      "Donner n dans [a, b]13\n",
      "Minute : \n",
      "Donner n dans [a, b]30\n",
      "Seconde : \n",
      "Donner n dans [a, b]0\n",
      "Arrivée à 13:30:00\n",
      "Durée de voyage\n",
      "----------\n",
      "01:19:59\n"
     ]
    }
   ],
   "source": [
    "#Q4.\n",
    "print(\"Heure du départ\\n----------\")\n",
    "h1, m1, s1 = saisi_heure()\n",
    "print(\"départ à {:02d}:{:02d}:{:02d}\".format(h1,m1,s1)) # formate la chaîne d'entier à deux chiffres\n",
    "print(\"Heure d'arrivée\\n---------- \")\n",
    "h2, m2, s2 = saisi_heure()\n",
    "print(\"Arrivée à {:02d}:{:02d}:{:02d}\".format(h2,m2,s2))\n",
    "print(\"Durée de voyage\\n----------\")\n",
    "h, m, s = duree_voyage(h1, m1, s1, h2, m2, s2)\n",
    "print(\"{:02d}:{:02d}:{:02d}\".format(h,m,s))"
   ]
  },
  {
   "cell_type": "code",
   "execution_count": null,
   "metadata": {},
   "outputs": [],
   "source": []
  }
 ],
 "metadata": {
  "kernelspec": {
   "display_name": "Python 3 (ipykernel)",
   "language": "python",
   "name": "python3"
  },
  "language_info": {
   "codemirror_mode": {
    "name": "ipython",
    "version": 3
   },
   "file_extension": ".py",
   "mimetype": "text/x-python",
   "name": "python",
   "nbconvert_exporter": "python",
   "pygments_lexer": "ipython3",
   "version": "3.9.7"
  }
 },
 "nbformat": 4,
 "nbformat_minor": 4
}
