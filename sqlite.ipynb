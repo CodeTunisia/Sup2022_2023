{
 "cells": [
  {
   "cell_type": "markdown",
   "metadata": {},
   "source": [
    "# SQLITE\n",
    "SQLite est un Système de Gestion de Base de Données (**SGBD**) qui sauvegarde la base sous forme d'un fichier multiplateforme. C’est une bibliothèque qui fournit une base de données légère sur disque ne nécessitant pas de processus serveur distinct et permet d’accéder à la base de données à l’aide d’une variante du langage de requête SQL Il permet ainsi une gestion simple et rapide des bases de données.\n",
    "\n",
    "## Utiliser le module SQLite \n",
    "Pour importer le module SQLite: "
   ]
  },
  {
   "cell_type": "code",
   "execution_count": 1,
   "metadata": {},
   "outputs": [],
   "source": [
    "import sqlite3"
   ]
  },
  {
   "cell_type": "markdown",
   "metadata": {},
   "source": [
    "## Créer une base de données avec SQLite \n",
    "Les bases créées avec cette librairie sont enregistrées sous forme de fichier **.db**, **.sq3**.\n",
    "\n",
    "Un fichier .db/.sq3 s'ouvre en créant un objet de type connection :"
   ]
  },
  {
   "cell_type": "code",
   "execution_count": 2,
   "metadata": {},
   "outputs": [
    {
     "data": {
      "text/plain": [
       "sqlite3.Connection"
      ]
     },
     "execution_count": 2,
     "metadata": {},
     "output_type": "execute_result"
    }
   ],
   "source": [
    "conn = sqlite3.connect('ma_base.db') # créer une connexion\n",
    "type(conn)"
   ]
  },
  {
   "cell_type": "markdown",
   "metadata": {},
   "source": [
    "Lorsque vous executerez votre programme vous remarquerez que si la base n'existe pas encore, un fichier sera crée dans le dossier de votre programme. Et si celui-ci existe déjà il sera réutilisé. Vous pouvez bien évidemment choisir l'emplacement de votre base de données en renseignant un path, exemple: \"/data/ma_base.db\" . Il vous faudra cependant vérifier que le dossier existe avant de l'utiliser. "
   ]
  },
  {
   "cell_type": "markdown",
   "metadata": {},
   "source": [
    "## Créer une table avec SQLite \n",
    "Pour exécuter des commandes dans la base, on crée des requêtes SQL sous forme de chaînes de caractères.\n",
    "Ensuite, on l’exécute à partir de la fonction `execute()`.\n",
    "\n",
    "Voici un exemple de création de table: "
   ]
  },
  {
   "cell_type": "code",
   "execution_count": 3,
   "metadata": {},
   "outputs": [
    {
     "data": {
      "text/plain": [
       "<sqlite3.Cursor at 0x230255fd6c0>"
      ]
     },
     "execution_count": 3,
     "metadata": {},
     "output_type": "execute_result"
    }
   ],
   "source": [
    "cursor = conn.cursor() # creér un curseur\n",
    "req = \"\"\"\n",
    "CREATE TABLE IF NOT EXISTS users(\n",
    "     id INTEGER PRIMARY KEY AUTOINCREMENT UNIQUE,\n",
    "     name TEXT,\n",
    "     age INTERGER\n",
    ")\n",
    "\"\"\"\n",
    "cursor.execute(req) # exécuter la commande"
   ]
  },
  {
   "cell_type": "markdown",
   "metadata": {},
   "source": [
    "Lorsque le travail prévu est terminé, il est nécessaire d’enregistrer les modifications faites sur la base :"
   ]
  },
  {
   "cell_type": "code",
   "execution_count": 4,
   "metadata": {},
   "outputs": [],
   "source": [
    "conn.commit() # envoyer la requêtte "
   ]
  },
  {
   "cell_type": "markdown",
   "metadata": {},
   "source": [
    "Enfin, il faut fermer la connexion vers la base :"
   ]
  },
  {
   "cell_type": "code",
   "execution_count": 4,
   "metadata": {},
   "outputs": [],
   "source": [
    "conn.close() # fermer la connexion"
   ]
  },
  {
   "cell_type": "markdown",
   "metadata": {},
   "source": [
    "## Insérer des données \n",
    "Il existe plusieurs manière d'insérer des données, la plus simple étant celle-ci: "
   ]
  },
  {
   "cell_type": "code",
   "execution_count": 5,
   "metadata": {},
   "outputs": [],
   "source": [
    "conn = sqlite3.connect('ma_base.db')\n",
    "cursor = conn.cursor()\n",
    "\n",
    "cursor.execute(\"\"\"\n",
    "INSERT INTO users(name, age) VALUES(?, ?)\"\"\", (\"olivier\", 22))\n",
    "\n",
    "conn.close()"
   ]
  },
  {
   "cell_type": "markdown",
   "metadata": {},
   "source": [
    "Vous pouvez passer par un dictionnaire: \n",
    "```python\n",
    "data = {\"name\" : \"Sami\", \"age\" : 22}\n",
    "cursor.execute(\"\"\"\n",
    "INSERT INTO users(name, age) VALUES(:name, :age)\"\"\", data)\n",
    "```"
   ]
  },
  {
   "cell_type": "markdown",
   "metadata": {},
   "source": [
    "En réalisant plusieurs insertions en une seule fois avec la fonction `executemany()` :"
   ]
  },
  {
   "cell_type": "code",
   "execution_count": 7,
   "metadata": {},
   "outputs": [],
   "source": [
    "conn = sqlite3.connect('ma_base.db')\n",
    "cursor = conn.cursor()\n",
    "\n",
    "users= [] # liste d'utilisateurs\n",
    "users.append((\"ali\",20))\n",
    "users.append((\"lara\",21))\n",
    "users.append((\"lamia\" , 24))\n",
    "cursor.executemany(\n",
    "\"\"\"INSERT INTO users(name, age) VALUES(?,?)\"\"\", users\n",
    ")\n",
    "\n",
    "conn.commit()\n",
    "conn.close()"
   ]
  },
  {
   "cell_type": "markdown",
   "metadata": {},
   "source": [
    "## Modifier des entrées \n",
    " Pour modifier des entrées:"
   ]
  },
  {
   "cell_type": "code",
   "execution_count": 8,
   "metadata": {},
   "outputs": [],
   "source": [
    "conn = sqlite3.connect('ma_base.db')\n",
    "cursor = conn.cursor()\n",
    "\n",
    "cursor.execute(\"\"\"UPDATE users SET age = ? WHERE id = 2\"\"\", (31,))\n",
    "\n",
    "conn.commit()\n",
    "conn.close()"
   ]
  },
  {
   "cell_type": "markdown",
   "metadata": {},
   "source": [
    "##  Récupérer des données\n",
    "La requête SQL **SELECT** demande l'extraction d’un ensemble particulier d’enregistrements, qui devront être\n",
    "transférés de la base de données au curseur.\n",
    "\n",
    "On peut récupérer la première ligne correspondant à une recherche à l'aide de la fonction `fetchone()` :"
   ]
  },
  {
   "cell_type": "code",
   "execution_count": 9,
   "metadata": {},
   "outputs": [
    {
     "name": "stdout",
     "output_type": "stream",
     "text": [
      "(1, 'olivier', 22)\n"
     ]
    }
   ],
   "source": [
    "conn = sqlite3.connect('ma_base.db')\n",
    "cursor = conn.cursor()\n",
    "\n",
    "cursor.execute(\"\"\"SELECT id, name, age FROM users\"\"\")\n",
    "user1 = cursor.fetchone()\n",
    "print(user1) # Le résultat est un tuple : ('olivier', 20)"
   ]
  },
  {
   "cell_type": "markdown",
   "metadata": {},
   "source": [
    "Vous pouvez récupérer plusieurs données de la même recherche en utilisant la fonction `fetchall()`. "
   ]
  },
  {
   "cell_type": "code",
   "execution_count": 12,
   "metadata": {},
   "outputs": [
    {
     "name": "stdout",
     "output_type": "stream",
     "text": [
      "[(1, 'olivier', 22), (2, 'ali', 31), (3, 'lara', 21), (4, 'lamia', 24)]\n",
      "1 : il/elle s'appel olivier il a 22\n",
      "2 : il/elle s'appel ali il a 31\n",
      "3 : il/elle s'appel lara il a 21\n",
      "4 : il/elle s'appel lamia il a 24\n"
     ]
    }
   ],
   "source": [
    "cursor.execute(\"\"\"SELECT id, name, age FROM users\"\"\")\n",
    "rows = cursor.fetchall()\n",
    "print(rows) # Le résultat est une liste de tuples\n",
    "\n",
    "for row in rows:\n",
    "    print(\"{} : il/elle s'appel {} il a {}\".format(row[0], row[1], row[2]))"
   ]
  },
  {
   "cell_type": "markdown",
   "metadata": {},
   "source": [
    "L'objet curseur fonctionne comme un itérateur, invoquant la méthode `fetchall()` automatiquement: "
   ]
  },
  {
   "cell_type": "code",
   "execution_count": null,
   "metadata": {},
   "outputs": [],
   "source": [
    "cursor.execute(\"\"\"SELECT id, name, age FROM users\"\"\")\n",
    "\n",
    "for row in cursor:\n",
    "    print(\"{} : s'appel {} il a {} ans\".format(row[0], row[1], row[2]))"
   ]
  },
  {
   "cell_type": "markdown",
   "metadata": {},
   "source": [
    "Pour la recherche spécifique,on utilise la même logique vu précédemment: "
   ]
  },
  {
   "cell_type": "code",
   "execution_count": 14,
   "metadata": {},
   "outputs": [
    {
     "name": "stdout",
     "output_type": "stream",
     "text": [
      "(2, 'ali')\n"
     ]
    }
   ],
   "source": [
    "id = 2\n",
    "cursor.execute(\"\"\"SELECT id, name FROM users WHERE id=?\"\"\", (id,))\n",
    "response = cursor.fetchone()\n",
    "print(response)"
   ]
  },
  {
   "cell_type": "markdown",
   "metadata": {},
   "source": [
    "## Gestion des erreurs \n",
    "\n",
    "Il est **recommandé** de toujours **encadrer** les opérations sur des bases de données et **d'anticiper des erreurs**: "
   ]
  },
  {
   "cell_type": "code",
   "execution_count": null,
   "metadata": {},
   "outputs": [],
   "source": [
    "import sqlite3\n",
    "\n",
    "try:\n",
    "    conn = sqlite3.connect('ma_base.db')\n",
    "    cursor = conn.cursor()\n",
    "    cursor.execute(\"\"\"\n",
    "CREATE TABLE users(\n",
    "    id INTEGER PRIMARY KEY AUTOINCREMENT UNIQUE,\n",
    "    name TEXT,\n",
    "    age INTERGER\n",
    ")\n",
    "\"\"\")\n",
    "    conn.commit()\n",
    "except sqlite3.OperationalError:\n",
    "    print('Erreur la table existe déjà')\n",
    "finally:\n",
    "    conn.close()\n"
   ]
  },
  {
   "cell_type": "markdown",
   "metadata": {},
   "source": [
    "Les erreurs que vous pouvez intercepter: \n",
    "```python\n",
    "Error\n",
    "DatabaseError\n",
    "DataError\n",
    "IntegrityError\n",
    "InternalError\n",
    "NotSupportedError\n",
    "OperationalError\n",
    "ProgrammingError\n",
    "InterfaceError\n",
    "Warning\n",
    "```"
   ]
  },
  {
   "cell_type": "code",
   "execution_count": null,
   "metadata": {},
   "outputs": [],
   "source": []
  }
 ],
 "metadata": {
  "kernelspec": {
   "display_name": "Python 3 (ipykernel)",
   "language": "python",
   "name": "python3"
  },
  "language_info": {
   "codemirror_mode": {
    "name": "ipython",
    "version": 3
   },
   "file_extension": ".py",
   "mimetype": "text/x-python",
   "name": "python",
   "nbconvert_exporter": "python",
   "pygments_lexer": "ipython3",
   "version": "3.9.7"
  }
 },
 "nbformat": 4,
 "nbformat_minor": 4
}
